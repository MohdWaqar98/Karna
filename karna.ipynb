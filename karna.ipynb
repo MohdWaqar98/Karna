{
 "cells": [
  {
   "cell_type": "code",
   "execution_count": 1,
   "id": "f126e6ff",
   "metadata": {
    "vscode": {
     "languageId": "plaintext"
    }
   },
   "outputs": [
    {
     "name": "stdout",
     "output_type": "stream",
     "text": [
      "Requirement already satisfied: SpeechRecognition in c:\\users\\user\\anaconda3\\envs\\speech-env\\lib\\site-packages (3.14.2)\n",
      "Requirement already satisfied: typing-extensions in c:\\users\\user\\anaconda3\\envs\\speech-env\\lib\\site-packages (from SpeechRecognition) (4.13.2)\n",
      "Requirement already satisfied: ipywidgets in c:\\users\\user\\anaconda3\\envs\\speech-env\\lib\\site-packages (8.1.6)\n",
      "Requirement already satisfied: comm>=0.1.3 in c:\\users\\user\\anaconda3\\envs\\speech-env\\lib\\site-packages (from ipywidgets) (0.2.2)\n",
      "Requirement already satisfied: ipython>=6.1.0 in c:\\users\\user\\anaconda3\\envs\\speech-env\\lib\\site-packages (from ipywidgets) (8.18.1)\n",
      "Requirement already satisfied: traitlets>=4.3.1 in c:\\users\\user\\anaconda3\\envs\\speech-env\\lib\\site-packages (from ipywidgets) (5.14.3)\n",
      "Requirement already satisfied: widgetsnbextension~=4.0.14 in c:\\users\\user\\anaconda3\\envs\\speech-env\\lib\\site-packages (from ipywidgets) (4.0.14)\n",
      "Requirement already satisfied: jupyterlab_widgets~=3.0.14 in c:\\users\\user\\anaconda3\\envs\\speech-env\\lib\\site-packages (from ipywidgets) (3.0.14)\n",
      "Requirement already satisfied: decorator in c:\\users\\user\\anaconda3\\envs\\speech-env\\lib\\site-packages (from ipython>=6.1.0->ipywidgets) (5.2.1)\n",
      "Requirement already satisfied: jedi>=0.16 in c:\\users\\user\\anaconda3\\envs\\speech-env\\lib\\site-packages (from ipython>=6.1.0->ipywidgets) (0.19.2)\n",
      "Requirement already satisfied: matplotlib-inline in c:\\users\\user\\anaconda3\\envs\\speech-env\\lib\\site-packages (from ipython>=6.1.0->ipywidgets) (0.1.7)\n",
      "Requirement already satisfied: prompt-toolkit<3.1.0,>=3.0.41 in c:\\users\\user\\anaconda3\\envs\\speech-env\\lib\\site-packages (from ipython>=6.1.0->ipywidgets) (3.0.51)\n",
      "Requirement already satisfied: pygments>=2.4.0 in c:\\users\\user\\anaconda3\\envs\\speech-env\\lib\\site-packages (from ipython>=6.1.0->ipywidgets) (2.19.1)\n",
      "Requirement already satisfied: stack-data in c:\\users\\user\\anaconda3\\envs\\speech-env\\lib\\site-packages (from ipython>=6.1.0->ipywidgets) (0.6.3)\n",
      "Requirement already satisfied: typing-extensions in c:\\users\\user\\anaconda3\\envs\\speech-env\\lib\\site-packages (from ipython>=6.1.0->ipywidgets) (4.13.2)\n",
      "Requirement already satisfied: exceptiongroup in c:\\users\\user\\anaconda3\\envs\\speech-env\\lib\\site-packages (from ipython>=6.1.0->ipywidgets) (1.2.2)\n",
      "Requirement already satisfied: colorama in c:\\users\\user\\anaconda3\\envs\\speech-env\\lib\\site-packages (from ipython>=6.1.0->ipywidgets) (0.4.6)\n",
      "Requirement already satisfied: wcwidth in c:\\users\\user\\anaconda3\\envs\\speech-env\\lib\\site-packages (from prompt-toolkit<3.1.0,>=3.0.41->ipython>=6.1.0->ipywidgets) (0.2.13)\n",
      "Requirement already satisfied: parso<0.9.0,>=0.8.4 in c:\\users\\user\\anaconda3\\envs\\speech-env\\lib\\site-packages (from jedi>=0.16->ipython>=6.1.0->ipywidgets) (0.8.4)\n",
      "Requirement already satisfied: executing>=1.2.0 in c:\\users\\user\\anaconda3\\envs\\speech-env\\lib\\site-packages (from stack-data->ipython>=6.1.0->ipywidgets) (2.2.0)\n",
      "Requirement already satisfied: asttokens>=2.1.0 in c:\\users\\user\\anaconda3\\envs\\speech-env\\lib\\site-packages (from stack-data->ipython>=6.1.0->ipywidgets) (3.0.0)\n",
      "Requirement already satisfied: pure_eval in c:\\users\\user\\anaconda3\\envs\\speech-env\\lib\\site-packages (from stack-data->ipython>=6.1.0->ipywidgets) (0.2.3)\n",
      "Requirement already satisfied: pyaudio in c:\\users\\user\\anaconda3\\envs\\speech-env\\lib\\site-packages (0.2.14)\n"
     ]
    }
   ],
   "source": [
    "# 1. Install required packages (run this only once)\n",
    "!pip install SpeechRecognition\n",
    "!pip install ipywidgets\n",
    "!pip install pyaudio"
   ]
  },
  {
   "cell_type": "code",
   "execution_count": 2,
   "id": "858bd39b",
   "metadata": {
    "vscode": {
     "languageId": "plaintext"
    }
   },
   "outputs": [],
   "source": [
    "# 2. Import libs\n",
    "import speech_recognition as sr\n",
    "import ipywidgets as widgets\n",
    "from IPython.display import display, clear_output\n",
    "import threading"
   ]
  },
  {
   "cell_type": "code",
   "execution_count": 3,
   "id": "ae3bb41b",
   "metadata": {
    "vscode": {
     "languageId": "plaintext"
    }
   },
   "outputs": [],
   "source": [
    "# 3. Language Dropdown (BCP-47 codes)\n",
    "lang_dropdown = widgets.Dropdown(\n",
    "    options=[\n",
    "        ('Hindi (India)', 'hi-IN'),\n",
    "        ('Gujarati (India)', 'gu-IN'),\n",
    "        ('Marathi (India)', 'mr-IN'),\n",
    "        ('Bengali (India)', 'bn-IN'),\n",
    "        ('Punjabi (India)', 'pa-IN'),\n",
    "        ('Tamil (India)', 'ta-IN'),\n",
    "        ('Telugu (India)', 'te-IN'),\n",
    "        ('Kannada (India)', 'kn-IN'),\n",
    "        ('Malayalam (India)', 'ml-IN'),\n",
    "        ('Urdu (India)', 'ur-IN'),\n",
    "        ('English (India)', 'en-IN'),\n",
    "        ('English (US)', 'en-US'),\n",
    "    ],\n",
    "    value='hi-IN',\n",
    "    description='Language:',\n",
    "    style={'description_width': 'initial'},\n",
    "    layout=widgets.Layout(width='50%')\n",
    ")"
   ]
  },
  {
   "cell_type": "code",
   "execution_count": 4,
   "id": "8b0a6096",
   "metadata": {
    "vscode": {
     "languageId": "plaintext"
    }
   },
   "outputs": [],
   "source": [
    "# 4. Output area & buttons\n",
    "output = widgets.Output()\n",
    "stop_button = widgets.Button(description='Stop', button_style='danger')\n",
    "start_button = widgets.Button(description='Start', button_style='success')"
   ]
  },
  {
   "cell_type": "code",
   "execution_count": 5,
   "id": "5e5e6c69",
   "metadata": {
    "vscode": {
     "languageId": "plaintext"
    }
   },
   "outputs": [],
   "source": [
    "# 5. Recognizer function in thread\n",
    "recognizer = sr.Recognizer()\n",
    "mic = sr.Microphone()\n",
    "listening = False"
   ]
  },
  {
   "cell_type": "code",
   "execution_count": 6,
   "id": "46b308f6",
   "metadata": {
    "vscode": {
     "languageId": "plaintext"
    }
   },
   "outputs": [
    {
     "data": {
      "application/vnd.jupyter.widget-view+json": {
       "model_id": "61bd46888bc64b239595ed37c610277a",
       "version_major": 2,
       "version_minor": 0
      },
      "text/plain": [
       "Dropdown(description='Language:', layout=Layout(width='50%'), options=(('Hindi (India)', 'hi-IN'), ('Gujarati …"
      ]
     },
     "metadata": {},
     "output_type": "display_data"
    },
    {
     "data": {
      "application/vnd.jupyter.widget-view+json": {
       "model_id": "863c62d7aa0a42538ab16b9effc543a6",
       "version_major": 2,
       "version_minor": 0
      },
      "text/plain": [
       "Button(button_style='success', description='Start', style=ButtonStyle())"
      ]
     },
     "metadata": {},
     "output_type": "display_data"
    },
    {
     "data": {
      "application/vnd.jupyter.widget-view+json": {
       "model_id": "f3991ae897c34b3594129802fc75a4ad",
       "version_major": 2,
       "version_minor": 0
      },
      "text/plain": [
       "Button(button_style='danger', description='Stop', style=ButtonStyle())"
      ]
     },
     "metadata": {},
     "output_type": "display_data"
    },
    {
     "data": {
      "application/vnd.jupyter.widget-view+json": {
       "model_id": "f65558d66d0e42188ed9ed24d2c6e209",
       "version_major": 2,
       "version_minor": 0
      },
      "text/plain": [
       "Output()"
      ]
     },
     "metadata": {},
     "output_type": "display_data"
    },
    {
     "name": "stdout",
     "output_type": "stream",
     "text": [
      "Listening...\n",
      ">> kya aapko\n",
      ">> meri awaaz Sunai de rahi hai\n",
      ">> Agar meri awaaz aapko Sunai de rahi hai\n",
      ">> to kya aap isko transcript kar Payenge\n",
      ">> my name is Waqar\n",
      ">> can't you understand hello\n",
      "Could not understand.\n",
      ">> manipulation\n",
      ">> what is the Dom manipulation in react JS\n"
     ]
    }
   ],
   "source": [
    "def listen(language):\n",
    "    global listening\n",
    "    with mic as source:\n",
    "        recognizer.adjust_for_ambient_noise(source)\n",
    "        with output:\n",
    "            print(\"Listening...\")\n",
    "    while listening:\n",
    "        try:\n",
    "            with mic as source:\n",
    "                audio = recognizer.listen(source, timeout=5, phrase_time_limit=10)\n",
    "            text = recognizer.recognize_google(audio, language=language)\n",
    "            with output:\n",
    "                print(f\">> {text}\")\n",
    "        except sr.WaitTimeoutError:\n",
    "            continue\n",
    "        except sr.UnknownValueError:\n",
    "            with output:\n",
    "                print(\"Could not understand.\")\n",
    "        except sr.RequestError as e:\n",
    "            with output:\n",
    "                print(f\"API error: {e}\")\n",
    "\n",
    "def start_recording(_):\n",
    "    global listening\n",
    "    listening = True\n",
    "    output.clear_output()\n",
    "    lang = lang_dropdown.value\n",
    "    thread = threading.Thread(target=listen, args=(lang,))\n",
    "    thread.start()\n",
    "\n",
    "def stop_recording(_):\n",
    "    global listening\n",
    "    listening = False\n",
    "    with output:\n",
    "        print(\"Stopped.\")\n",
    "\n",
    "start_button.on_click(start_recording)\n",
    "stop_button.on_click(stop_recording)\n",
    "\n",
    "# 6. Display all widgets\n",
    "display(lang_dropdown, start_button, stop_button, output)"
   ]
  },
  {
   "cell_type": "code",
   "execution_count": null,
   "id": "1745878b-e06c-4959-bdc4-f98488a6cdb9",
   "metadata": {},
   "outputs": [],
   "source": []
  },
  {
   "cell_type": "code",
   "execution_count": null,
   "id": "b963f581-f56f-4065-9f89-c3cdbed8dac3",
   "metadata": {},
   "outputs": [],
   "source": []
  },
  {
   "cell_type": "code",
   "execution_count": null,
   "id": "c65ba589-d601-40ea-8172-42578ad0bc56",
   "metadata": {},
   "outputs": [],
   "source": []
  }
 ],
 "metadata": {
  "kernelspec": {
   "display_name": "Python 3 (ipykernel)",
   "language": "python",
   "name": "python3"
  },
  "language_info": {
   "codemirror_mode": {
    "name": "ipython",
    "version": 3
   },
   "file_extension": ".py",
   "mimetype": "text/x-python",
   "name": "python",
   "nbconvert_exporter": "python",
   "pygments_lexer": "ipython3",
   "version": "3.9.21"
  }
 },
 "nbformat": 4,
 "nbformat_minor": 5
}
