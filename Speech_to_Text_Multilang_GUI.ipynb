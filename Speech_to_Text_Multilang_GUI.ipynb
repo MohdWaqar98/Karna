
{
 "cells": [
  {
   "cell_type": "markdown",
   "metadata": {},
   "source": [
    "# 🎙️ Multi-language Speech-to-Text Converter (Free)
",
    "This notebook supports 10+ Indian languages using the free Google Web Speech API with real-time transcription and a GUI (Start/Stop buttons)."
   ]
  },
  {
   "cell_type": "code",
   "execution_count": null,
   "metadata": {},
   "outputs": [],
   "source": [
    "import speech_recognition as sr
",
    "import tkinter as tk
",
    "from tkinter import ttk
",
    "import threading
",
    "import time"
   ]
  },
  {
   "cell_type": "code",
   "execution_count": null,
   "metadata": {},
   "outputs": [],
   "source": [
    "# Supported languages (BCP-47 format)
",
    "languages = {
",
    "    'Hindi (hi-IN)': 'hi-IN',
",
    "    'English (en-IN)': 'en-IN',
",
    "    'Bengali (bn-IN)': 'bn-IN',
",
    "    'Gujarati (gu-IN)': 'gu-IN',
",
    "    'Kannada (kn-IN)': 'kn-IN',
",
    "    'Malayalam (ml-IN)': 'ml-IN',
",
    "    'Marathi (mr-IN)': 'mr-IN',
",
    "    'Punjabi (pa-IN)': 'pa-IN',
",
    "    'Tamil (ta-IN)': 'ta-IN',
",
    "    'Telugu (te-IN)': 'te-IN',
",
    "    'Urdu (ur-IN)': 'ur-IN'
",
    "}
",
    "
",
    "recognizer = sr.Recognizer()
",
    "mic = sr.Microphone()
",
    "running = False"
   ]
  },
  {
   "cell_type": "code",
   "execution_count": null,
   "metadata": {},
   "outputs": [],
   "source": [
    "def listen_loop(lang):
",
    "    global running
",
    "    with mic as source:
",
    "        recognizer.adjust_for_ambient_noise(source)
",
    "        while running:
",
    "            try:
",
    "                audio = recognizer.listen(source, timeout=5)
",
    "                text = recognizer.recognize_google(audio, language=lang)
",
    "                output_text.insert(tk.END, text + '\n')
",
    "                output_text.see(tk.END)
",
    "            except sr.UnknownValueError:
",
    "                output_text.insert(tk.END, "Could not understand audio\n")
",
    "            except sr.RequestError as e:
",
    "                output_text.insert(tk.END, f"Could not request results; {e}\n")
",
    "            except Exception as e:
",
    "                output_text.insert(tk.END, f"Error: {str(e)}\n")"
   ]
  },
  {
   "cell_type": "code",
   "execution_count": null,
   "metadata": {},
   "outputs": [],
   "source": [
    "def start_recognition():
",
    "    global running
",
    "    running = True
",
    "    selected_lang = lang_var.get()
",
    "    lang_code = languages[selected_lang]
",
    "    threading.Thread(target=listen_loop, args=(lang_code,), daemon=True).start()
",
    "
",
    "def stop_recognition():
",
    "    global running
",
    "    running = False"
   ]
  },
  {
   "cell_type": "code",
   "execution_count": null,
   "metadata": {}, 
   "outputs": [],
   "source": [
    "# GUI
",
    "root = tk.Tk()
",
    "root.title("🗣️ Speech to Text - Indian Languages")
",
    "root.geometry("600x400")
",
    "
",
    "lang_var = tk.StringVar(value='Hindi (hi-IN)')
",
    "ttk.Label(root, text="Select Language:").pack(pady=5)
",
    "lang_menu = ttk.Combobox(root, textvariable=lang_var, values=list(languages.keys()), state='readonly')
",
    "lang_menu.pack(pady=5)
",
    "
",
    "ttk.Button(root, text="Start", command=start_recognition).pack(pady=5)
",
    "ttk.Button(root, text="Stop", command=stop_recognition).pack(pady=5)
",
    "
",
    "output_text = tk.Text(root, height=15, wrap='word')
",
    "output_text.pack(expand=True, fill='both')
",
    "
",
    "root.mainloop()"
   ]
  }
 ],
 "metadata": {
  "kernelspec": {
   "display_name": "Python 3",
   "language": "python",
   "name": "python3"
  },
  "language_info": {
   "name": "python",
   "version": "3.8"
  }
 },
 "nbformat": 4,
 "nbformat_minor": 5
}
