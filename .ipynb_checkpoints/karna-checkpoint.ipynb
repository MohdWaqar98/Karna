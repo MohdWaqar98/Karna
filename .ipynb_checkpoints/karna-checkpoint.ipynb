{
 "cells": [
  {
   "cell_type": "code",
   "execution_count": null,
   "id": "f126e6ff",
   "metadata": {
    "vscode": {
     "languageId": "plaintext"
    }
   },
   "outputs": [],
   "source": [
    "import speech_recognition as sr\n",
    "import ipywidgets as widgets\n",
    "from IPython.display import display, clear_output"
   ]
  },
  {
   "cell_type": "code",
   "execution_count": null,
   "id": "858bd39b",
   "metadata": {
    "vscode": {
     "languageId": "plaintext"
    }
   },
   "outputs": [],
   "source": [
    "# Dropdown for language selection\n",
    "language_dropdown = widgets.Dropdown(\n",
    "    options=[\n",
    "        ('English (US)', 'en-US'),\n",
    "        ('English (India)', 'en-IN'),\n",
    "        ('Hindi (India)', 'hi-IN'),\n",
    "        ('Bengali (India)', 'bn-IN')\n",
    "    ],\n",
    "    value='en-US',\n",
    "    description='Language:',\n",
    ")"
   ]
  },
  {
   "cell_type": "code",
   "execution_count": null,
   "id": "ae3bb41b",
   "metadata": {
    "vscode": {
     "languageId": "plaintext"
    }
   },
   "outputs": [],
   "source": [
    "# Button to start recording\n",
    "record_button = widgets.Button(description=\"🎤 Start Listening\", button_style='success')"
   ]
  },
  {
   "cell_type": "code",
   "execution_count": null,
   "id": "8b0a6096",
   "metadata": {
    "vscode": {
     "languageId": "plaintext"
    }
   },
   "outputs": [],
   "source": [
    "# Output area for displaying result\n",
    "output_area = widgets.Output()\n",
    "\n",
    "display(language_dropdown, record_button, output_area)"
   ]
  },
  {
   "cell_type": "code",
   "execution_count": null,
   "id": "5e5e6c69",
   "metadata": {
    "vscode": {
     "languageId": "plaintext"
    }
   },
   "outputs": [],
   "source": [
    "# Speech recognition function\n",
    "def recognize_speech(lang_code):\n",
    "    r = sr.Recognizer()\n",
    "    mic = sr.Microphone()\n",
    "\n",
    "    with mic as source:\n",
    "        with output_area:\n",
    "            clear_output()\n",
    "            print(\"Adjusting for ambient noise... Please wait.\")\n",
    "            r.adjust_for_ambient_noise(source)\n",
    "            print(\"Listening... Speak now!\")\n",
    "        audio = r.listen(source)\n",
    "\n",
    "    try:\n",
    "        text = r.recognize_google(audio, language=lang_code)\n",
    "        with output_area:\n",
    "            print(\"\\nTranscription:\")\n",
    "            print(\"🗣️\", text)\n",
    "    except sr.UnknownValueError:\n",
    "        with output_area:\n",
    "            print(\"❗Could not understand the audio.\")\n",
    "    except sr.RequestError:\n",
    "        with output_area:\n",
    "            print(\"❌ Could not request results. Check your internet connection.\")\n"
   ]
  },
  {
   "cell_type": "code",
   "execution_count": null,
   "id": "46b308f6",
   "metadata": {
    "vscode": {
     "languageId": "plaintext"
    }
   },
   "outputs": [],
   "source": [
    "# Event handler\n",
    "def on_button_click(b):\n",
    "    recognize_speech(language_dropdown.value)\n",
    "\n",
    "record_button.on_click(on_button_click)"
   ]
  }
 ],
 "metadata": {
  "language_info": {
   "name": "python"
  }
 },
 "nbformat": 4,
 "nbformat_minor": 5
}
